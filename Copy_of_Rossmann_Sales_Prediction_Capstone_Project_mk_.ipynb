{
  "nbformat": 4,
  "nbformat_minor": 0,
  "metadata": {
    "kernelspec": {
      "display_name": "Python 3",
      "language": "python",
      "name": "python3"
    },
    "language_info": {
      "codemirror_mode": {
        "name": "ipython",
        "version": 3
      },
      "file_extension": ".py",
      "mimetype": "text/x-python",
      "name": "python",
      "nbconvert_exporter": "python",
      "pygments_lexer": "ipython3",
      "version": "3.6.6"
    },
    "colab": {
      "name": "Copy of Rossmann Sales Prediction - Capstone Project - mk .ipynb",
      "provenance": [],
      "collapsed_sections": [],
      "include_colab_link": true
    }
  },
  "cells": [
    {
      "cell_type": "markdown",
      "metadata": {
        "id": "view-in-github",
        "colab_type": "text"
      },
      "source": [
        "<a href=\"https://colab.research.google.com/github/MuraliKrishna454/mk/blob/main/Copy_of_Rossmann_Sales_Prediction_Capstone_Project_mk_.ipynb\" target=\"_parent\"><img src=\"https://colab.research.google.com/assets/colab-badge.svg\" alt=\"Open In Colab\"/></a>"
      ]
    },
    {
      "cell_type": "markdown",
      "metadata": {
        "id": "tOGC-qoyhJeX"
      },
      "source": [
        "# <b><u> Project Title : Sales Prediction : Predicting sales of a major store chain Rossmann</u></b>"
      ]
    },
    {
      "cell_type": "markdown",
      "metadata": {
        "id": "Y06xIdG26kRF"
      },
      "source": [
        "## <b> Problem Description </b>\n",
        "\n",
        "### Rossmann operates over 3,000 drug stores in 7 European countries. Currently, Rossmann store managers are tasked with predicting their daily sales for up to six weeks in advance. Store sales are influenced by many factors, including promotions, competition, school and state holidays, seasonality, and locality. With thousands of individual managers predicting sales based on their unique circumstances, the accuracy of results can be quite varied.\n",
        "\n",
        "### You are provided with historical sales data for 1,115 Rossmann stores. The task is to forecast the \"Sales\" column for the test set. Note that some stores in the dataset were temporarily closed for refurbishment."
      ]
    },
    {
      "cell_type": "markdown",
      "metadata": {
        "id": "WWeU1f9bwqQq"
      },
      "source": [
        "## <b> Data Description </b>\n",
        "\n",
        "### <b>Rossmann Stores Data.csv </b> - historical data including Sales\n",
        "### <b>store.csv </b> - supplemental information about the stores\n",
        "\n",
        "\n",
        "### <b><u>Data fields</u></b>\n",
        "### Most of the fields are self-explanatory. The following are descriptions for those that aren't.\n",
        "\n",
        "* #### Id - an Id that represents a (Store, Date) duple within the test set\n",
        "* #### Store - a unique Id for each store\n",
        "* #### Sales - the turnover for any given day (this is what you are predicting)\n",
        "* #### Customers - the number of customers on a given day\n",
        "* #### Open - an indicator for whether the store was open: 0 = closed, 1 = open\n",
        "* #### StateHoliday - indicates a state holiday. Normally all stores, with few exceptions, are closed on state holidays. Note that all schools are closed on public holidays and weekends. a = public holiday, b = Easter holiday, c = Christmas, 0 = None\n",
        "* #### SchoolHoliday - indicates if the (Store, Date) was affected by the closure of public schools\n",
        "* #### StoreType - differentiates between 4 different store models: a, b, c, d\n",
        "* #### Assortment - describes an assortment level: a = basic, b = extra, c = extended\n",
        "* #### CompetitionDistance - distance in meters to the nearest competitor store\n",
        "* #### CompetitionOpenSince[Month/Year] - gives the approximate year and month of the time the nearest competitor was opened\n",
        "* #### Promo - indicates whether a store is running a promo on that day\n",
        "* #### Promo2 - Promo2 is a continuing and consecutive promotion for some stores: 0 = store is not participating, 1 = store is participating\n",
        "* #### Promo2Since[Year/Week] - describes the year and calendar week when the store started participating in Promo2\n",
        "* #### PromoInterval - describes the consecutive intervals Promo2 is started, naming the months the promotion is started anew. E.g. \"Feb,May,Aug,Nov\" means each round starts in February, May, August, November of any given year for that store"
      ]
    },
    {
      "cell_type": "code",
      "metadata": {
        "colab": {
          "base_uri": "https://localhost:8080/"
        },
        "id": "fP7E93GSQwG8",
        "outputId": "84eee578-9071-4c0b-f34d-d2e80b4f472f"
      },
      "source": [
        "from google.colab import drive\n",
        "drive.mount('/content/drive')"
      ],
      "execution_count": 2,
      "outputs": [
        {
          "output_type": "stream",
          "name": "stdout",
          "text": [
            "Mounted at /content/drive\n"
          ]
        }
      ]
    },
    {
      "cell_type": "code",
      "metadata": {
        "id": "LdBn2Y0PRCkL"
      },
      "source": [
        "import numpy as np\n",
        "import pandas as pd\n",
        "import seaborn as sns\n",
        "from matplotlib import pyplot as plt"
      ],
      "execution_count": 3,
      "outputs": []
    },
    {
      "cell_type": "code",
      "metadata": {
        "colab": {
          "base_uri": "https://localhost:8080/",
          "height": 347
        },
        "id": "oY_toz_kRQzz",
        "outputId": "1c1bb20f-3c1a-47f9-ebc9-814b96ff8e8e"
      },
      "source": [
        "## Reading the datasets from drive\n",
        "sales_data = pd.read_csv('/content/drive/MyDrive/linear regression/Copy of Rossmann Stores Data.csv')\n",
        "sales_data.head()"
      ],
      "execution_count": 4,
      "outputs": [
        {
          "output_type": "stream",
          "name": "stderr",
          "text": [
            "/usr/local/lib/python3.7/dist-packages/IPython/core/interactiveshell.py:2718: DtypeWarning: Columns (7) have mixed types.Specify dtype option on import or set low_memory=False.\n",
            "  interactivity=interactivity, compiler=compiler, result=result)\n"
          ]
        },
        {
          "output_type": "execute_result",
          "data": {
            "text/html": [
              "<div>\n",
              "<style scoped>\n",
              "    .dataframe tbody tr th:only-of-type {\n",
              "        vertical-align: middle;\n",
              "    }\n",
              "\n",
              "    .dataframe tbody tr th {\n",
              "        vertical-align: top;\n",
              "    }\n",
              "\n",
              "    .dataframe thead th {\n",
              "        text-align: right;\n",
              "    }\n",
              "</style>\n",
              "<table border=\"1\" class=\"dataframe\">\n",
              "  <thead>\n",
              "    <tr style=\"text-align: right;\">\n",
              "      <th></th>\n",
              "      <th>Store</th>\n",
              "      <th>DayOfWeek</th>\n",
              "      <th>Date</th>\n",
              "      <th>Sales</th>\n",
              "      <th>Customers</th>\n",
              "      <th>Open</th>\n",
              "      <th>Promo</th>\n",
              "      <th>StateHoliday</th>\n",
              "      <th>SchoolHoliday</th>\n",
              "    </tr>\n",
              "  </thead>\n",
              "  <tbody>\n",
              "    <tr>\n",
              "      <th>0</th>\n",
              "      <td>1</td>\n",
              "      <td>5</td>\n",
              "      <td>2015-07-31</td>\n",
              "      <td>5263</td>\n",
              "      <td>555</td>\n",
              "      <td>1</td>\n",
              "      <td>1</td>\n",
              "      <td>0</td>\n",
              "      <td>1</td>\n",
              "    </tr>\n",
              "    <tr>\n",
              "      <th>1</th>\n",
              "      <td>2</td>\n",
              "      <td>5</td>\n",
              "      <td>2015-07-31</td>\n",
              "      <td>6064</td>\n",
              "      <td>625</td>\n",
              "      <td>1</td>\n",
              "      <td>1</td>\n",
              "      <td>0</td>\n",
              "      <td>1</td>\n",
              "    </tr>\n",
              "    <tr>\n",
              "      <th>2</th>\n",
              "      <td>3</td>\n",
              "      <td>5</td>\n",
              "      <td>2015-07-31</td>\n",
              "      <td>8314</td>\n",
              "      <td>821</td>\n",
              "      <td>1</td>\n",
              "      <td>1</td>\n",
              "      <td>0</td>\n",
              "      <td>1</td>\n",
              "    </tr>\n",
              "    <tr>\n",
              "      <th>3</th>\n",
              "      <td>4</td>\n",
              "      <td>5</td>\n",
              "      <td>2015-07-31</td>\n",
              "      <td>13995</td>\n",
              "      <td>1498</td>\n",
              "      <td>1</td>\n",
              "      <td>1</td>\n",
              "      <td>0</td>\n",
              "      <td>1</td>\n",
              "    </tr>\n",
              "    <tr>\n",
              "      <th>4</th>\n",
              "      <td>5</td>\n",
              "      <td>5</td>\n",
              "      <td>2015-07-31</td>\n",
              "      <td>4822</td>\n",
              "      <td>559</td>\n",
              "      <td>1</td>\n",
              "      <td>1</td>\n",
              "      <td>0</td>\n",
              "      <td>1</td>\n",
              "    </tr>\n",
              "  </tbody>\n",
              "</table>\n",
              "</div>"
            ],
            "text/plain": [
              "   Store  DayOfWeek        Date  Sales  ...  Open  Promo  StateHoliday SchoolHoliday\n",
              "0      1          5  2015-07-31   5263  ...     1      1             0             1\n",
              "1      2          5  2015-07-31   6064  ...     1      1             0             1\n",
              "2      3          5  2015-07-31   8314  ...     1      1             0             1\n",
              "3      4          5  2015-07-31  13995  ...     1      1             0             1\n",
              "4      5          5  2015-07-31   4822  ...     1      1             0             1\n",
              "\n",
              "[5 rows x 9 columns]"
            ]
          },
          "metadata": {},
          "execution_count": 4
        }
      ]
    },
    {
      "cell_type": "code",
      "metadata": {
        "colab": {
          "base_uri": "https://localhost:8080/"
        },
        "id": "eteqhT1iS67M",
        "outputId": "d903e0b9-095a-4061-f749-d1c5fe949374"
      },
      "source": [
        "## Looking at size of dataset\n",
        "sales_data.shape"
      ],
      "execution_count": 5,
      "outputs": [
        {
          "output_type": "execute_result",
          "data": {
            "text/plain": [
              "(1017209, 9)"
            ]
          },
          "metadata": {},
          "execution_count": 5
        }
      ]
    },
    {
      "cell_type": "code",
      "metadata": {
        "colab": {
          "base_uri": "https://localhost:8080/",
          "height": 313
        },
        "id": "ZgoLV0IWR3C3",
        "outputId": "79e85f36-541b-471d-d25a-556e3238dbd5"
      },
      "source": [
        "sales_data.tail()"
      ],
      "execution_count": 6,
      "outputs": [
        {
          "output_type": "execute_result",
          "data": {
            "text/html": [
              "<div>\n",
              "<style scoped>\n",
              "    .dataframe tbody tr th:only-of-type {\n",
              "        vertical-align: middle;\n",
              "    }\n",
              "\n",
              "    .dataframe tbody tr th {\n",
              "        vertical-align: top;\n",
              "    }\n",
              "\n",
              "    .dataframe thead th {\n",
              "        text-align: right;\n",
              "    }\n",
              "</style>\n",
              "<table border=\"1\" class=\"dataframe\">\n",
              "  <thead>\n",
              "    <tr style=\"text-align: right;\">\n",
              "      <th></th>\n",
              "      <th>Store</th>\n",
              "      <th>DayOfWeek</th>\n",
              "      <th>Date</th>\n",
              "      <th>Sales</th>\n",
              "      <th>Customers</th>\n",
              "      <th>Open</th>\n",
              "      <th>Promo</th>\n",
              "      <th>StateHoliday</th>\n",
              "      <th>SchoolHoliday</th>\n",
              "    </tr>\n",
              "  </thead>\n",
              "  <tbody>\n",
              "    <tr>\n",
              "      <th>1017204</th>\n",
              "      <td>1111</td>\n",
              "      <td>2</td>\n",
              "      <td>2013-01-01</td>\n",
              "      <td>0</td>\n",
              "      <td>0</td>\n",
              "      <td>0</td>\n",
              "      <td>0</td>\n",
              "      <td>a</td>\n",
              "      <td>1</td>\n",
              "    </tr>\n",
              "    <tr>\n",
              "      <th>1017205</th>\n",
              "      <td>1112</td>\n",
              "      <td>2</td>\n",
              "      <td>2013-01-01</td>\n",
              "      <td>0</td>\n",
              "      <td>0</td>\n",
              "      <td>0</td>\n",
              "      <td>0</td>\n",
              "      <td>a</td>\n",
              "      <td>1</td>\n",
              "    </tr>\n",
              "    <tr>\n",
              "      <th>1017206</th>\n",
              "      <td>1113</td>\n",
              "      <td>2</td>\n",
              "      <td>2013-01-01</td>\n",
              "      <td>0</td>\n",
              "      <td>0</td>\n",
              "      <td>0</td>\n",
              "      <td>0</td>\n",
              "      <td>a</td>\n",
              "      <td>1</td>\n",
              "    </tr>\n",
              "    <tr>\n",
              "      <th>1017207</th>\n",
              "      <td>1114</td>\n",
              "      <td>2</td>\n",
              "      <td>2013-01-01</td>\n",
              "      <td>0</td>\n",
              "      <td>0</td>\n",
              "      <td>0</td>\n",
              "      <td>0</td>\n",
              "      <td>a</td>\n",
              "      <td>1</td>\n",
              "    </tr>\n",
              "    <tr>\n",
              "      <th>1017208</th>\n",
              "      <td>1115</td>\n",
              "      <td>2</td>\n",
              "      <td>2013-01-01</td>\n",
              "      <td>0</td>\n",
              "      <td>0</td>\n",
              "      <td>0</td>\n",
              "      <td>0</td>\n",
              "      <td>a</td>\n",
              "      <td>1</td>\n",
              "    </tr>\n",
              "  </tbody>\n",
              "</table>\n",
              "</div>"
            ],
            "text/plain": [
              "         Store  DayOfWeek        Date  ...  Promo  StateHoliday  SchoolHoliday\n",
              "1017204   1111          2  2013-01-01  ...      0             a              1\n",
              "1017205   1112          2  2013-01-01  ...      0             a              1\n",
              "1017206   1113          2  2013-01-01  ...      0             a              1\n",
              "1017207   1114          2  2013-01-01  ...      0             a              1\n",
              "1017208   1115          2  2013-01-01  ...      0             a              1\n",
              "\n",
              "[5 rows x 9 columns]"
            ]
          },
          "metadata": {},
          "execution_count": 6
        }
      ]
    },
    {
      "cell_type": "code",
      "metadata": {
        "colab": {
          "base_uri": "https://localhost:8080/",
          "height": 320
        },
        "id": "jNM3SrctSNlG",
        "outputId": "946c5411-c661-4663-9f99-d7ab6058ac4b"
      },
      "source": [
        "sales_data.describe()"
      ],
      "execution_count": 7,
      "outputs": [
        {
          "output_type": "execute_result",
          "data": {
            "text/html": [
              "<div>\n",
              "<style scoped>\n",
              "    .dataframe tbody tr th:only-of-type {\n",
              "        vertical-align: middle;\n",
              "    }\n",
              "\n",
              "    .dataframe tbody tr th {\n",
              "        vertical-align: top;\n",
              "    }\n",
              "\n",
              "    .dataframe thead th {\n",
              "        text-align: right;\n",
              "    }\n",
              "</style>\n",
              "<table border=\"1\" class=\"dataframe\">\n",
              "  <thead>\n",
              "    <tr style=\"text-align: right;\">\n",
              "      <th></th>\n",
              "      <th>Store</th>\n",
              "      <th>DayOfWeek</th>\n",
              "      <th>Sales</th>\n",
              "      <th>Customers</th>\n",
              "      <th>Open</th>\n",
              "      <th>Promo</th>\n",
              "      <th>SchoolHoliday</th>\n",
              "    </tr>\n",
              "  </thead>\n",
              "  <tbody>\n",
              "    <tr>\n",
              "      <th>count</th>\n",
              "      <td>1.017209e+06</td>\n",
              "      <td>1.017209e+06</td>\n",
              "      <td>1.017209e+06</td>\n",
              "      <td>1.017209e+06</td>\n",
              "      <td>1.017209e+06</td>\n",
              "      <td>1.017209e+06</td>\n",
              "      <td>1.017209e+06</td>\n",
              "    </tr>\n",
              "    <tr>\n",
              "      <th>mean</th>\n",
              "      <td>5.584297e+02</td>\n",
              "      <td>3.998341e+00</td>\n",
              "      <td>5.773819e+03</td>\n",
              "      <td>6.331459e+02</td>\n",
              "      <td>8.301067e-01</td>\n",
              "      <td>3.815145e-01</td>\n",
              "      <td>1.786467e-01</td>\n",
              "    </tr>\n",
              "    <tr>\n",
              "      <th>std</th>\n",
              "      <td>3.219087e+02</td>\n",
              "      <td>1.997391e+00</td>\n",
              "      <td>3.849926e+03</td>\n",
              "      <td>4.644117e+02</td>\n",
              "      <td>3.755392e-01</td>\n",
              "      <td>4.857586e-01</td>\n",
              "      <td>3.830564e-01</td>\n",
              "    </tr>\n",
              "    <tr>\n",
              "      <th>min</th>\n",
              "      <td>1.000000e+00</td>\n",
              "      <td>1.000000e+00</td>\n",
              "      <td>0.000000e+00</td>\n",
              "      <td>0.000000e+00</td>\n",
              "      <td>0.000000e+00</td>\n",
              "      <td>0.000000e+00</td>\n",
              "      <td>0.000000e+00</td>\n",
              "    </tr>\n",
              "    <tr>\n",
              "      <th>25%</th>\n",
              "      <td>2.800000e+02</td>\n",
              "      <td>2.000000e+00</td>\n",
              "      <td>3.727000e+03</td>\n",
              "      <td>4.050000e+02</td>\n",
              "      <td>1.000000e+00</td>\n",
              "      <td>0.000000e+00</td>\n",
              "      <td>0.000000e+00</td>\n",
              "    </tr>\n",
              "    <tr>\n",
              "      <th>50%</th>\n",
              "      <td>5.580000e+02</td>\n",
              "      <td>4.000000e+00</td>\n",
              "      <td>5.744000e+03</td>\n",
              "      <td>6.090000e+02</td>\n",
              "      <td>1.000000e+00</td>\n",
              "      <td>0.000000e+00</td>\n",
              "      <td>0.000000e+00</td>\n",
              "    </tr>\n",
              "    <tr>\n",
              "      <th>75%</th>\n",
              "      <td>8.380000e+02</td>\n",
              "      <td>6.000000e+00</td>\n",
              "      <td>7.856000e+03</td>\n",
              "      <td>8.370000e+02</td>\n",
              "      <td>1.000000e+00</td>\n",
              "      <td>1.000000e+00</td>\n",
              "      <td>0.000000e+00</td>\n",
              "    </tr>\n",
              "    <tr>\n",
              "      <th>max</th>\n",
              "      <td>1.115000e+03</td>\n",
              "      <td>7.000000e+00</td>\n",
              "      <td>4.155100e+04</td>\n",
              "      <td>7.388000e+03</td>\n",
              "      <td>1.000000e+00</td>\n",
              "      <td>1.000000e+00</td>\n",
              "      <td>1.000000e+00</td>\n",
              "    </tr>\n",
              "  </tbody>\n",
              "</table>\n",
              "</div>"
            ],
            "text/plain": [
              "              Store     DayOfWeek  ...         Promo  SchoolHoliday\n",
              "count  1.017209e+06  1.017209e+06  ...  1.017209e+06   1.017209e+06\n",
              "mean   5.584297e+02  3.998341e+00  ...  3.815145e-01   1.786467e-01\n",
              "std    3.219087e+02  1.997391e+00  ...  4.857586e-01   3.830564e-01\n",
              "min    1.000000e+00  1.000000e+00  ...  0.000000e+00   0.000000e+00\n",
              "25%    2.800000e+02  2.000000e+00  ...  0.000000e+00   0.000000e+00\n",
              "50%    5.580000e+02  4.000000e+00  ...  0.000000e+00   0.000000e+00\n",
              "75%    8.380000e+02  6.000000e+00  ...  1.000000e+00   0.000000e+00\n",
              "max    1.115000e+03  7.000000e+00  ...  1.000000e+00   1.000000e+00\n",
              "\n",
              "[8 rows x 7 columns]"
            ]
          },
          "metadata": {},
          "execution_count": 7
        }
      ]
    },
    {
      "cell_type": "code",
      "metadata": {
        "colab": {
          "base_uri": "https://localhost:8080/",
          "height": 226
        },
        "id": "i9jKCr5Hezli",
        "outputId": "48f672be-0ac7-4ac9-d0cf-19cf69a7fcb2"
      },
      "source": [
        "## There are individual store details as well let's have a look over it\n",
        "stores_details = pd.read_csv('/content/drive/MyDrive/linear regression/Copy of store.csv')\n",
        "stores_details.head(5)"
      ],
      "execution_count": 8,
      "outputs": [
        {
          "output_type": "execute_result",
          "data": {
            "text/html": [
              "<div>\n",
              "<style scoped>\n",
              "    .dataframe tbody tr th:only-of-type {\n",
              "        vertical-align: middle;\n",
              "    }\n",
              "\n",
              "    .dataframe tbody tr th {\n",
              "        vertical-align: top;\n",
              "    }\n",
              "\n",
              "    .dataframe thead th {\n",
              "        text-align: right;\n",
              "    }\n",
              "</style>\n",
              "<table border=\"1\" class=\"dataframe\">\n",
              "  <thead>\n",
              "    <tr style=\"text-align: right;\">\n",
              "      <th></th>\n",
              "      <th>Store</th>\n",
              "      <th>StoreType</th>\n",
              "      <th>Assortment</th>\n",
              "      <th>CompetitionDistance</th>\n",
              "      <th>CompetitionOpenSinceMonth</th>\n",
              "      <th>CompetitionOpenSinceYear</th>\n",
              "      <th>Promo2</th>\n",
              "      <th>Promo2SinceWeek</th>\n",
              "      <th>Promo2SinceYear</th>\n",
              "      <th>PromoInterval</th>\n",
              "    </tr>\n",
              "  </thead>\n",
              "  <tbody>\n",
              "    <tr>\n",
              "      <th>0</th>\n",
              "      <td>1</td>\n",
              "      <td>c</td>\n",
              "      <td>a</td>\n",
              "      <td>1270.0</td>\n",
              "      <td>9.0</td>\n",
              "      <td>2008.0</td>\n",
              "      <td>0</td>\n",
              "      <td>NaN</td>\n",
              "      <td>NaN</td>\n",
              "      <td>NaN</td>\n",
              "    </tr>\n",
              "    <tr>\n",
              "      <th>1</th>\n",
              "      <td>2</td>\n",
              "      <td>a</td>\n",
              "      <td>a</td>\n",
              "      <td>570.0</td>\n",
              "      <td>11.0</td>\n",
              "      <td>2007.0</td>\n",
              "      <td>1</td>\n",
              "      <td>13.0</td>\n",
              "      <td>2010.0</td>\n",
              "      <td>Jan,Apr,Jul,Oct</td>\n",
              "    </tr>\n",
              "    <tr>\n",
              "      <th>2</th>\n",
              "      <td>3</td>\n",
              "      <td>a</td>\n",
              "      <td>a</td>\n",
              "      <td>14130.0</td>\n",
              "      <td>12.0</td>\n",
              "      <td>2006.0</td>\n",
              "      <td>1</td>\n",
              "      <td>14.0</td>\n",
              "      <td>2011.0</td>\n",
              "      <td>Jan,Apr,Jul,Oct</td>\n",
              "    </tr>\n",
              "    <tr>\n",
              "      <th>3</th>\n",
              "      <td>4</td>\n",
              "      <td>c</td>\n",
              "      <td>c</td>\n",
              "      <td>620.0</td>\n",
              "      <td>9.0</td>\n",
              "      <td>2009.0</td>\n",
              "      <td>0</td>\n",
              "      <td>NaN</td>\n",
              "      <td>NaN</td>\n",
              "      <td>NaN</td>\n",
              "    </tr>\n",
              "    <tr>\n",
              "      <th>4</th>\n",
              "      <td>5</td>\n",
              "      <td>a</td>\n",
              "      <td>a</td>\n",
              "      <td>29910.0</td>\n",
              "      <td>4.0</td>\n",
              "      <td>2015.0</td>\n",
              "      <td>0</td>\n",
              "      <td>NaN</td>\n",
              "      <td>NaN</td>\n",
              "      <td>NaN</td>\n",
              "    </tr>\n",
              "  </tbody>\n",
              "</table>\n",
              "</div>"
            ],
            "text/plain": [
              "   Store StoreType  ... Promo2SinceYear    PromoInterval\n",
              "0      1         c  ...             NaN              NaN\n",
              "1      2         a  ...          2010.0  Jan,Apr,Jul,Oct\n",
              "2      3         a  ...          2011.0  Jan,Apr,Jul,Oct\n",
              "3      4         c  ...             NaN              NaN\n",
              "4      5         a  ...             NaN              NaN\n",
              "\n",
              "[5 rows x 10 columns]"
            ]
          },
          "metadata": {},
          "execution_count": 8
        }
      ]
    },
    {
      "cell_type": "code",
      "metadata": {
        "colab": {
          "base_uri": "https://localhost:8080/"
        },
        "id": "POqEh4pMShBA",
        "outputId": "54141c17-47fc-40a9-e342-e35ed91521a0"
      },
      "source": [
        "sales_data['Store'].value_counts()"
      ],
      "execution_count": 9,
      "outputs": [
        {
          "output_type": "execute_result",
          "data": {
            "text/plain": [
              "1023    942\n",
              "666     942\n",
              "675     942\n",
              "163     942\n",
              "674     942\n",
              "       ... \n",
              "900     758\n",
              "902     758\n",
              "903     758\n",
              "904     758\n",
              "512     758\n",
              "Name: Store, Length: 1115, dtype: int64"
            ]
          },
          "metadata": {},
          "execution_count": 9
        }
      ]
    },
    {
      "cell_type": "code",
      "metadata": {
        "colab": {
          "base_uri": "https://localhost:8080/"
        },
        "id": "0m8Eu8mrUo2m",
        "outputId": "ee820219-3da9-47b7-aeef-f971433f5524"
      },
      "source": [
        "## lets look into missing values in each dataset\n",
        "print('Sales_data: \\n\\n', sales_data.isnull().sum())\n",
        "\n",
        "print('\\n\\nStores_details: \\n\\n', stores_details.isnull().sum())\n"
      ],
      "execution_count": 10,
      "outputs": [
        {
          "output_type": "stream",
          "name": "stdout",
          "text": [
            "Sales_data: \n",
            "\n",
            " Store            0\n",
            "DayOfWeek        0\n",
            "Date             0\n",
            "Sales            0\n",
            "Customers        0\n",
            "Open             0\n",
            "Promo            0\n",
            "StateHoliday     0\n",
            "SchoolHoliday    0\n",
            "dtype: int64\n",
            "\n",
            "\n",
            "Stores_details: \n",
            "\n",
            " Store                          0\n",
            "StoreType                      0\n",
            "Assortment                     0\n",
            "CompetitionDistance            3\n",
            "CompetitionOpenSinceMonth    354\n",
            "CompetitionOpenSinceYear     354\n",
            "Promo2                         0\n",
            "Promo2SinceWeek              544\n",
            "Promo2SinceYear              544\n",
            "PromoInterval                544\n",
            "dtype: int64\n"
          ]
        }
      ]
    },
    {
      "cell_type": "code",
      "metadata": {
        "id": "A-0KgbGscuXM"
      },
      "source": [
        "''' From above in the stores dataset there are missing values in some features\n",
        "we have decided to drop those features as most of the data is missing moreover \n",
        "we cannot able to predict this kind of data like date, month , year.'''\n",
        "\n",
        "stores_details = stores_details.drop(['CompetitionOpenSinceMonth',\n",
        "                                     'CompetitionOpenSinceYear','Promo2SinceWeek',\n",
        "                                     'Promo2SinceYear','PromoInterval'],axis = 1)"
      ],
      "execution_count": 11,
      "outputs": []
    },
    {
      "cell_type": "code",
      "metadata": {
        "colab": {
          "base_uri": "https://localhost:8080/",
          "height": 386
        },
        "id": "Tex63eCudz6_",
        "outputId": "08cf2d81-1b1a-447d-c761-97e7c59126ff"
      },
      "source": [
        "## Here we will replace the missing values in CompetitionDistance features\n",
        "## Before that we will have a look at distribution in order to decided with what \n",
        "##value can we able to impute missing values so has to have good results\n",
        "\n",
        "sns.displot(stores_details.CompetitionDistance)\n"
      ],
      "execution_count": 12,
      "outputs": [
        {
          "output_type": "execute_result",
          "data": {
            "text/plain": [
              "<seaborn.axisgrid.FacetGrid at 0x7f22be5554d0>"
            ]
          },
          "metadata": {},
          "execution_count": 12
        },
        {
          "output_type": "display_data",
          "data": {
            "image/png": "[encoded data removed]",
            "text/plain": [
              "<Figure size 360x360 with 1 Axes>"
            ]
          },
          "metadata": {
            "needs_background": "light"
          }
        }
      ]
    },
    {
      "cell_type": "code",
      "metadata": {
        "colab": {
          "base_uri": "https://localhost:8080/",
          "height": 351
        },
        "id": "vcTDRFlPg2g4",
        "outputId": "af31f9ce-f7e8-41d7-97d2-034652ccec79"
      },
      "source": [
        "## Here we will replace the missing values in CompetitionDistance features\n",
        "## Before that we will have a look at distribution in order to decided with what \n",
        "##value can we able to impute missing values so has to have good results\n",
        "\n",
        "sns.boxplot(stores_details.CompetitionDistance)\n"
      ],
      "execution_count": 13,
      "outputs": [
        {
          "output_type": "stream",
          "name": "stderr",
          "text": [
            "/usr/local/lib/python3.7/dist-packages/seaborn/_decorators.py:43: FutureWarning: Pass the following variable as a keyword arg: x. From version 0.12, the only valid positional argument will be `data`, and passing other arguments without an explicit keyword will result in an error or misinterpretation.\n",
            "  FutureWarning\n"
          ]
        },
        {
          "output_type": "execute_result",
          "data": {
            "text/plain": [
              "<matplotlib.axes._subplots.AxesSubplot at 0x7f22bed68b50>"
            ]
          },
          "metadata": {},
          "execution_count": 13
        },
        {
          "output_type": "display_data",
          "data": {
            "image/png": "[encoded data removed]",
            "text/plain": [
              "<Figure size 432x288 with 1 Axes>"
            ]
          },
          "metadata": {
            "needs_background": "light"
          }
        }
      ]
    },
    {
      "cell_type": "code",
      "metadata": {
        "id": "VLKZecV2efpK"
      },
      "source": [
        "## we can see that the distribution is right skewed so we can impute missing \n",
        "##values with median of the all available values\n",
        "\n",
        "stores_details.CompetitionDistance.fillna(stores_details.CompetitionDistance.median(), \n",
        "                                          inplace=True)"
      ],
      "execution_count": 14,
      "outputs": []
    },
    {
      "cell_type": "code",
      "metadata": {
        "colab": {
          "base_uri": "https://localhost:8080/"
        },
        "id": "RSKP92ZKe_IV",
        "outputId": "34631a87-3499-4ce6-f4c4-c1a2401a9f4d"
      },
      "source": [
        "stores_details.isnull().sum()\n"
      ],
      "execution_count": 15,
      "outputs": [
        {
          "output_type": "execute_result",
          "data": {
            "text/plain": [
              "Store                  0\n",
              "StoreType              0\n",
              "Assortment             0\n",
              "CompetitionDistance    0\n",
              "Promo2                 0\n",
              "dtype: int64"
            ]
          },
          "metadata": {},
          "execution_count": 15
        }
      ]
    },
    {
      "cell_type": "code",
      "metadata": {
        "id": "yu1VhyD2jp8T"
      },
      "source": [
        "sales_data['Date'] = pd.to_datetime(sales_data['Date'])"
      ],
      "execution_count": 16,
      "outputs": []
    },
    {
      "cell_type": "code",
      "metadata": {
        "id": "a9Pt9_Sxkv5g"
      },
      "source": [
        "sales_data['Year'] = sales_data['Date'].dt.year\n",
        "sales_data['Month'] = sales_data['Date'].dt.month\n",
        "sales_data['Day'] = sales_data['Date'].dt.day"
      ],
      "execution_count": 17,
      "outputs": []
    },
    {
      "cell_type": "markdown",
      "metadata": {
        "id": "yetszNapl1lB"
      },
      "source": [
        "## Joining two datasets"
      ]
    },
    {
      "cell_type": "code",
      "metadata": {
        "id": "MHMt7_RBl1Bh"
      },
      "source": [
        "## Merging two dataset on store feature\n",
        "data = pd.merge(sales_data, stores_details, how='left', on='Store')"
      ],
      "execution_count": 18,
      "outputs": []
    },
    {
      "cell_type": "code",
      "metadata": {
        "colab": {
          "base_uri": "https://localhost:8080/",
          "height": 313
        },
        "id": "jyer7yvCmNYq",
        "outputId": "9f91ee27-6f42-4161-cba8-7810177c932e"
      },
      "source": [
        "## Looking at merged data\n",
        "data.head(5)"
      ],
      "execution_count": 19,
      "outputs": [
        {
          "output_type": "execute_result",
          "data": {
            "text/html": [
              "<div>\n",
              "<style scoped>\n",
              "    .dataframe tbody tr th:only-of-type {\n",
              "        vertical-align: middle;\n",
              "    }\n",
              "\n",
              "    .dataframe tbody tr th {\n",
              "        vertical-align: top;\n",
              "    }\n",
              "\n",
              "    .dataframe thead th {\n",
              "        text-align: right;\n",
              "    }\n",
              "</style>\n",
              "<table border=\"1\" class=\"dataframe\">\n",
              "  <thead>\n",
              "    <tr style=\"text-align: right;\">\n",
              "      <th></th>\n",
              "      <th>Store</th>\n",
              "      <th>DayOfWeek</th>\n",
              "      <th>Date</th>\n",
              "      <th>Sales</th>\n",
              "      <th>Customers</th>\n",
              "      <th>Open</th>\n",
              "      <th>Promo</th>\n",
              "      <th>StateHoliday</th>\n",
              "      <th>SchoolHoliday</th>\n",
              "      <th>Year</th>\n",
              "      <th>Month</th>\n",
              "      <th>Day</th>\n",
              "      <th>StoreType</th>\n",
              "      <th>Assortment</th>\n",
              "      <th>CompetitionDistance</th>\n",
              "      <th>Promo2</th>\n",
              "    </tr>\n",
              "  </thead>\n",
              "  <tbody>\n",
              "    <tr>\n",
              "      <th>0</th>\n",
              "      <td>1</td>\n",
              "      <td>5</td>\n",
              "      <td>2015-07-31</td>\n",
              "      <td>5263</td>\n",
              "      <td>555</td>\n",
              "      <td>1</td>\n",
              "      <td>1</td>\n",
              "      <td>0</td>\n",
              "      <td>1</td>\n",
              "      <td>2015</td>\n",
              "      <td>7</td>\n",
              "      <td>31</td>\n",
              "      <td>c</td>\n",
              "      <td>a</td>\n",
              "      <td>1270.0</td>\n",
              "      <td>0</td>\n",
              "    </tr>\n",
              "    <tr>\n",
              "      <th>1</th>\n",
              "      <td>2</td>\n",
              "      <td>5</td>\n",
              "      <td>2015-07-31</td>\n",
              "      <td>6064</td>\n",
              "      <td>625</td>\n",
              "      <td>1</td>\n",
              "      <td>1</td>\n",
              "      <td>0</td>\n",
              "      <td>1</td>\n",
              "      <td>2015</td>\n",
              "      <td>7</td>\n",
              "      <td>31</td>\n",
              "      <td>a</td>\n",
              "      <td>a</td>\n",
              "      <td>570.0</td>\n",
              "      <td>1</td>\n",
              "    </tr>\n",
              "    <tr>\n",
              "      <th>2</th>\n",
              "      <td>3</td>\n",
              "      <td>5</td>\n",
              "      <td>2015-07-31</td>\n",
              "      <td>8314</td>\n",
              "      <td>821</td>\n",
              "      <td>1</td>\n",
              "      <td>1</td>\n",
              "      <td>0</td>\n",
              "      <td>1</td>\n",
              "      <td>2015</td>\n",
              "      <td>7</td>\n",
              "      <td>31</td>\n",
              "      <td>a</td>\n",
              "      <td>a</td>\n",
              "      <td>14130.0</td>\n",
              "      <td>1</td>\n",
              "    </tr>\n",
              "    <tr>\n",
              "      <th>3</th>\n",
              "      <td>4</td>\n",
              "      <td>5</td>\n",
              "      <td>2015-07-31</td>\n",
              "      <td>13995</td>\n",
              "      <td>1498</td>\n",
              "      <td>1</td>\n",
              "      <td>1</td>\n",
              "      <td>0</td>\n",
              "      <td>1</td>\n",
              "      <td>2015</td>\n",
              "      <td>7</td>\n",
              "      <td>31</td>\n",
              "      <td>c</td>\n",
              "      <td>c</td>\n",
              "      <td>620.0</td>\n",
              "      <td>0</td>\n",
              "    </tr>\n",
              "    <tr>\n",
              "      <th>4</th>\n",
              "      <td>5</td>\n",
              "      <td>5</td>\n",
              "      <td>2015-07-31</td>\n",
              "      <td>4822</td>\n",
              "      <td>559</td>\n",
              "      <td>1</td>\n",
              "      <td>1</td>\n",
              "      <td>0</td>\n",
              "      <td>1</td>\n",
              "      <td>2015</td>\n",
              "      <td>7</td>\n",
              "      <td>31</td>\n",
              "      <td>a</td>\n",
              "      <td>a</td>\n",
              "      <td>29910.0</td>\n",
              "      <td>0</td>\n",
              "    </tr>\n",
              "  </tbody>\n",
              "</table>\n",
              "</div>"
            ],
            "text/plain": [
              "   Store  DayOfWeek       Date  ...  Assortment  CompetitionDistance  Promo2\n",
              "0      1          5 2015-07-31  ...           a               1270.0       0\n",
              "1      2          5 2015-07-31  ...           a                570.0       1\n",
              "2      3          5 2015-07-31  ...           a              14130.0       1\n",
              "3      4          5 2015-07-31  ...           c                620.0       0\n",
              "4      5          5 2015-07-31  ...           a              29910.0       0\n",
              "\n",
              "[5 rows x 16 columns]"
            ]
          },
          "metadata": {},
          "execution_count": 19
        }
      ]
    },
    {
      "cell_type": "code",
      "metadata": {
        "id": "hbzPnHFVlgQT"
      },
      "source": [
        "## as we already extracted data from date feature we have decided to drop this feature\n",
        "data = data.drop(['Date'],axis=1)"
      ],
      "execution_count": 20,
      "outputs": []
    },
    {
      "cell_type": "code",
      "metadata": {
        "colab": {
          "base_uri": "https://localhost:8080/",
          "height": 226
        },
        "id": "mfqjsbUMmzac",
        "outputId": "9987cea3-097f-4836-8563-e2d7cbb79858"
      },
      "source": [
        "data.tail(5)"
      ],
      "execution_count": 21,
      "outputs": [
        {
          "output_type": "execute_result",
          "data": {
            "text/html": [
              "<div>\n",
              "<style scoped>\n",
              "    .dataframe tbody tr th:only-of-type {\n",
              "        vertical-align: middle;\n",
              "    }\n",
              "\n",
              "    .dataframe tbody tr th {\n",
              "        vertical-align: top;\n",
              "    }\n",
              "\n",
              "    .dataframe thead th {\n",
              "        text-align: right;\n",
              "    }\n",
              "</style>\n",
              "<table border=\"1\" class=\"dataframe\">\n",
              "  <thead>\n",
              "    <tr style=\"text-align: right;\">\n",
              "      <th></th>\n",
              "      <th>Store</th>\n",
              "      <th>DayOfWeek</th>\n",
              "      <th>Sales</th>\n",
              "      <th>Customers</th>\n",
              "      <th>Open</th>\n",
              "      <th>Promo</th>\n",
              "      <th>StateHoliday</th>\n",
              "      <th>SchoolHoliday</th>\n",
              "      <th>Year</th>\n",
              "      <th>Month</th>\n",
              "      <th>Day</th>\n",
              "      <th>StoreType</th>\n",
              "      <th>Assortment</th>\n",
              "      <th>CompetitionDistance</th>\n",
              "      <th>Promo2</th>\n",
              "    </tr>\n",
              "  </thead>\n",
              "  <tbody>\n",
              "    <tr>\n",
              "      <th>1017204</th>\n",
              "      <td>1111</td>\n",
              "      <td>2</td>\n",
              "      <td>0</td>\n",
              "      <td>0</td>\n",
              "      <td>0</td>\n",
              "      <td>0</td>\n",
              "      <td>a</td>\n",
              "      <td>1</td>\n",
              "      <td>2013</td>\n",
              "      <td>1</td>\n",
              "      <td>1</td>\n",
              "      <td>a</td>\n",
              "      <td>a</td>\n",
              "      <td>1900.0</td>\n",
              "      <td>1</td>\n",
              "    </tr>\n",
              "    <tr>\n",
              "      <th>1017205</th>\n",
              "      <td>1112</td>\n",
              "      <td>2</td>\n",
              "      <td>0</td>\n",
              "      <td>0</td>\n",
              "      <td>0</td>\n",
              "      <td>0</td>\n",
              "      <td>a</td>\n",
              "      <td>1</td>\n",
              "      <td>2013</td>\n",
              "      <td>1</td>\n",
              "      <td>1</td>\n",
              "      <td>c</td>\n",
              "      <td>c</td>\n",
              "      <td>1880.0</td>\n",
              "      <td>0</td>\n",
              "    </tr>\n",
              "    <tr>\n",
              "      <th>1017206</th>\n",
              "      <td>1113</td>\n",
              "      <td>2</td>\n",
              "      <td>0</td>\n",
              "      <td>0</td>\n",
              "      <td>0</td>\n",
              "      <td>0</td>\n",
              "      <td>a</td>\n",
              "      <td>1</td>\n",
              "      <td>2013</td>\n",
              "      <td>1</td>\n",
              "      <td>1</td>\n",
              "      <td>a</td>\n",
              "      <td>c</td>\n",
              "      <td>9260.0</td>\n",
              "      <td>0</td>\n",
              "    </tr>\n",
              "    <tr>\n",
              "      <th>1017207</th>\n",
              "      <td>1114</td>\n",
              "      <td>2</td>\n",
              "      <td>0</td>\n",
              "      <td>0</td>\n",
              "      <td>0</td>\n",
              "      <td>0</td>\n",
              "      <td>a</td>\n",
              "      <td>1</td>\n",
              "      <td>2013</td>\n",
              "      <td>1</td>\n",
              "      <td>1</td>\n",
              "      <td>a</td>\n",
              "      <td>c</td>\n",
              "      <td>870.0</td>\n",
              "      <td>0</td>\n",
              "    </tr>\n",
              "    <tr>\n",
              "      <th>1017208</th>\n",
              "      <td>1115</td>\n",
              "      <td>2</td>\n",
              "      <td>0</td>\n",
              "      <td>0</td>\n",
              "      <td>0</td>\n",
              "      <td>0</td>\n",
              "      <td>a</td>\n",
              "      <td>1</td>\n",
              "      <td>2013</td>\n",
              "      <td>1</td>\n",
              "      <td>1</td>\n",
              "      <td>d</td>\n",
              "      <td>c</td>\n",
              "      <td>5350.0</td>\n",
              "      <td>1</td>\n",
              "    </tr>\n",
              "  </tbody>\n",
              "</table>\n",
              "</div>"
            ],
            "text/plain": [
              "         Store  DayOfWeek  Sales  ...  Assortment  CompetitionDistance  Promo2\n",
              "1017204   1111          2      0  ...           a               1900.0       1\n",
              "1017205   1112          2      0  ...           c               1880.0       0\n",
              "1017206   1113          2      0  ...           c               9260.0       0\n",
              "1017207   1114          2      0  ...           c                870.0       0\n",
              "1017208   1115          2      0  ...           c               5350.0       1\n",
              "\n",
              "[5 rows x 15 columns]"
            ]
          },
          "metadata": {},
          "execution_count": 21
        }
      ]
    },
    {
      "cell_type": "code",
      "metadata": {
        "colab": {
          "base_uri": "https://localhost:8080/"
        },
        "id": "QYGkpawMm3oN",
        "outputId": "5a829b53-2b5a-40b4-f48e-aad139a1d161"
      },
      "source": [
        "data.shape"
      ],
      "execution_count": 22,
      "outputs": [
        {
          "output_type": "execute_result",
          "data": {
            "text/plain": [
              "(1017209, 15)"
            ]
          },
          "metadata": {},
          "execution_count": 22
        }
      ]
    },
    {
      "cell_type": "code",
      "metadata": {
        "id": "KvkPz3Kwotfo"
      },
      "source": [
        "## here we don't need stores which were closed\n",
        "data = data[data['Open'] == 1]"
      ],
      "execution_count": 23,
      "outputs": []
    },
    {
      "cell_type": "code",
      "metadata": {
        "id": "H9HlthLr3YXP"
      },
      "source": [
        "data = data.drop(['Open'],axis=1)"
      ],
      "execution_count": 24,
      "outputs": []
    },
    {
      "cell_type": "code",
      "metadata": {
        "colab": {
          "base_uri": "https://localhost:8080/"
        },
        "id": "nIrZuFd43F4M",
        "outputId": "0fe2ba3f-2f8d-40ab-f8c4-a1fca8290f4c"
      },
      "source": [
        "## now we can drop this feature, howevere all stores are open now\n",
        "data.columns"
      ],
      "execution_count": 25,
      "outputs": [
        {
          "output_type": "execute_result",
          "data": {
            "text/plain": [
              "Index(['Store', 'DayOfWeek', 'Sales', 'Customers', 'Promo', 'StateHoliday',\n",
              "       'SchoolHoliday', 'Year', 'Month', 'Day', 'StoreType', 'Assortment',\n",
              "       'CompetitionDistance', 'Promo2'],\n",
              "      dtype='object')"
            ]
          },
          "metadata": {},
          "execution_count": 25
        }
      ]
    },
    {
      "cell_type": "code",
      "metadata": {
        "colab": {
          "base_uri": "https://localhost:8080/"
        },
        "id": "SeH3qIg_rFO5",
        "outputId": "750fcbc7-8afc-46e4-b050-ec48f3ca75d0"
      },
      "source": [
        "data.shape"
      ],
      "execution_count": 26,
      "outputs": [
        {
          "output_type": "execute_result",
          "data": {
            "text/plain": [
              "(844392, 14)"
            ]
          },
          "metadata": {},
          "execution_count": 26
        }
      ]
    },
    {
      "cell_type": "code",
      "metadata": {
        "colab": {
          "base_uri": "https://localhost:8080/"
        },
        "id": "SycjiJAE29WS",
        "outputId": "915c4a95-7147-461f-c2f3-acf2ad159ac5"
      },
      "source": [
        "## lets check whether are there any sales value is 0\n",
        "\n",
        "sales_zero = data[data['Sales']==0]['Store'].sum()\n",
        "sales_total = data['Sales'].sum()\n",
        "print(sales_zero)\n",
        "print(sales_total)\n",
        "\n",
        "per_sal_zero = (sales_zero)/(sales_total)\n",
        "print(f'Precentage of sales zero is : {per_sal_zero}')"
      ],
      "execution_count": 27,
      "outputs": [
        {
          "output_type": "stream",
          "name": "stdout",
          "text": [
            "31460\n",
            "5873180623\n",
            "Precentage of sales zero is : 5.3565524405633455e-06\n"
          ]
        }
      ]
    },
    {
      "cell_type": "code",
      "metadata": {
        "id": "2kmp6D1RqYuA"
      },
      "source": [
        "## we came to know that sales whose values are zero are very low \n",
        "## therefore we may drop them \n",
        "\n",
        "data = data[data['Sales']!=0]"
      ],
      "execution_count": 28,
      "outputs": []
    },
    {
      "cell_type": "code",
      "metadata": {
        "colab": {
          "base_uri": "https://localhost:8080/",
          "height": 243
        },
        "id": "MLa28wdlqyZp",
        "outputId": "784d2b80-8e86-457d-fd75-6d955a9a4514"
      },
      "source": [
        "# Now lets see what is size of our dataset\n",
        "\n",
        "print(data.shape)\n",
        "# lets make a copy of datasets\n",
        "\n",
        "datanew = data.copy()\n",
        "datanew.head(5)"
      ],
      "execution_count": 29,
      "outputs": [
        {
          "output_type": "stream",
          "name": "stdout",
          "text": [
            "(844338, 14)\n"
          ]
        },
        {
          "output_type": "execute_result",
          "data": {
            "text/html": [
              "<div>\n",
              "<style scoped>\n",
              "    .dataframe tbody tr th:only-of-type {\n",
              "        vertical-align: middle;\n",
              "    }\n",
              "\n",
              "    .dataframe tbody tr th {\n",
              "        vertical-align: top;\n",
              "    }\n",
              "\n",
              "    .dataframe thead th {\n",
              "        text-align: right;\n",
              "    }\n",
              "</style>\n",
              "<table border=\"1\" class=\"dataframe\">\n",
              "  <thead>\n",
              "    <tr style=\"text-align: right;\">\n",
              "      <th></th>\n",
              "      <th>Store</th>\n",
              "      <th>DayOfWeek</th>\n",
              "      <th>Sales</th>\n",
              "      <th>Customers</th>\n",
              "      <th>Promo</th>\n",
              "      <th>StateHoliday</th>\n",
              "      <th>SchoolHoliday</th>\n",
              "      <th>Year</th>\n",
              "      <th>Month</th>\n",
              "      <th>Day</th>\n",
              "      <th>StoreType</th>\n",
              "      <th>Assortment</th>\n",
              "      <th>CompetitionDistance</th>\n",
              "      <th>Promo2</th>\n",
              "    </tr>\n",
              "  </thead>\n",
              "  <tbody>\n",
              "    <tr>\n",
              "      <th>0</th>\n",
              "      <td>1</td>\n",
              "      <td>5</td>\n",
              "      <td>5263</td>\n",
              "      <td>555</td>\n",
              "      <td>1</td>\n",
              "      <td>0</td>\n",
              "      <td>1</td>\n",
              "      <td>2015</td>\n",
              "      <td>7</td>\n",
              "      <td>31</td>\n",
              "      <td>c</td>\n",
              "      <td>a</td>\n",
              "      <td>1270.0</td>\n",
              "      <td>0</td>\n",
              "    </tr>\n",
              "    <tr>\n",
              "      <th>1</th>\n",
              "      <td>2</td>\n",
              "      <td>5</td>\n",
              "      <td>6064</td>\n",
              "      <td>625</td>\n",
              "      <td>1</td>\n",
              "      <td>0</td>\n",
              "      <td>1</td>\n",
              "      <td>2015</td>\n",
              "      <td>7</td>\n",
              "      <td>31</td>\n",
              "      <td>a</td>\n",
              "      <td>a</td>\n",
              "      <td>570.0</td>\n",
              "      <td>1</td>\n",
              "    </tr>\n",
              "    <tr>\n",
              "      <th>2</th>\n",
              "      <td>3</td>\n",
              "      <td>5</td>\n",
              "      <td>8314</td>\n",
              "      <td>821</td>\n",
              "      <td>1</td>\n",
              "      <td>0</td>\n",
              "      <td>1</td>\n",
              "      <td>2015</td>\n",
              "      <td>7</td>\n",
              "      <td>31</td>\n",
              "      <td>a</td>\n",
              "      <td>a</td>\n",
              "      <td>14130.0</td>\n",
              "      <td>1</td>\n",
              "    </tr>\n",
              "    <tr>\n",
              "      <th>3</th>\n",
              "      <td>4</td>\n",
              "      <td>5</td>\n",
              "      <td>13995</td>\n",
              "      <td>1498</td>\n",
              "      <td>1</td>\n",
              "      <td>0</td>\n",
              "      <td>1</td>\n",
              "      <td>2015</td>\n",
              "      <td>7</td>\n",
              "      <td>31</td>\n",
              "      <td>c</td>\n",
              "      <td>c</td>\n",
              "      <td>620.0</td>\n",
              "      <td>0</td>\n",
              "    </tr>\n",
              "    <tr>\n",
              "      <th>4</th>\n",
              "      <td>5</td>\n",
              "      <td>5</td>\n",
              "      <td>4822</td>\n",
              "      <td>559</td>\n",
              "      <td>1</td>\n",
              "      <td>0</td>\n",
              "      <td>1</td>\n",
              "      <td>2015</td>\n",
              "      <td>7</td>\n",
              "      <td>31</td>\n",
              "      <td>a</td>\n",
              "      <td>a</td>\n",
              "      <td>29910.0</td>\n",
              "      <td>0</td>\n",
              "    </tr>\n",
              "  </tbody>\n",
              "</table>\n",
              "</div>"
            ],
            "text/plain": [
              "   Store  DayOfWeek  Sales  ...  Assortment  CompetitionDistance Promo2\n",
              "0      1          5   5263  ...           a               1270.0      0\n",
              "1      2          5   6064  ...           a                570.0      1\n",
              "2      3          5   8314  ...           a              14130.0      1\n",
              "3      4          5  13995  ...           c                620.0      0\n",
              "4      5          5   4822  ...           a              29910.0      0\n",
              "\n",
              "[5 rows x 14 columns]"
            ]
          },
          "metadata": {},
          "execution_count": 29
        }
      ]
    },
    {
      "cell_type": "code",
      "metadata": {
        "colab": {
          "base_uri": "https://localhost:8080/"
        },
        "id": "FiduuxsM9dg3",
        "outputId": "18fe65fa-78a2-447a-a053-5b49ab4c60ac"
      },
      "source": [
        "# Having a glance at dataframe\n",
        "datanew.info()"
      ],
      "execution_count": 30,
      "outputs": [
        {
          "output_type": "stream",
          "name": "stdout",
          "text": [
            "<class 'pandas.core.frame.DataFrame'>\n",
            "Int64Index: 844338 entries, 0 to 1017190\n",
            "Data columns (total 14 columns):\n",
            " #   Column               Non-Null Count   Dtype  \n",
            "---  ------               --------------   -----  \n",
            " 0   Store                844338 non-null  int64  \n",
            " 1   DayOfWeek            844338 non-null  int64  \n",
            " 2   Sales                844338 non-null  int64  \n",
            " 3   Customers            844338 non-null  int64  \n",
            " 4   Promo                844338 non-null  int64  \n",
            " 5   StateHoliday         844338 non-null  object \n",
            " 6   SchoolHoliday        844338 non-null  int64  \n",
            " 7   Year                 844338 non-null  int64  \n",
            " 8   Month                844338 non-null  int64  \n",
            " 9   Day                  844338 non-null  int64  \n",
            " 10  StoreType            844338 non-null  object \n",
            " 11  Assortment           844338 non-null  object \n",
            " 12  CompetitionDistance  844338 non-null  float64\n",
            " 13  Promo2               844338 non-null  int64  \n",
            "dtypes: float64(1), int64(10), object(3)\n",
            "memory usage: 96.6+ MB\n"
          ]
        }
      ]
    },
    {
      "cell_type": "code",
      "metadata": {
        "colab": {
          "base_uri": "https://localhost:8080/"
        },
        "id": "rjLBToKz94W0",
        "outputId": "c6dacf51-07e6-43e4-c29e-e91e0dfb1727"
      },
      "source": [
        "## lets look at whats in features having dtype as object\n",
        "\n",
        "print(f'Unique values in State Holiday feature: {datanew.StateHoliday.unique()}')\n",
        "print(f'\\n\\n Uniques values in Store Type features: {datanew.StoreType.unique()}')\n",
        "print(f'\\n\\n Uniques values in Assorment features: {datanew.Assortment.unique()}')"
      ],
      "execution_count": 31,
      "outputs": [
        {
          "output_type": "stream",
          "name": "stdout",
          "text": [
            "Unique values in State Holiday feature: ['0' 'a' 'b' 'c' 0]\n",
            "\n",
            "\n",
            " Uniques values in Store Type features: ['c' 'a' 'd' 'b']\n",
            "\n",
            "\n",
            " Uniques values in Assorment features: ['a' 'c' 'b']\n"
          ]
        }
      ]
    },
    {
      "cell_type": "code",
      "metadata": {
        "colab": {
          "base_uri": "https://localhost:8080/"
        },
        "id": "dQeu4uQMYbDg",
        "outputId": "effdfb44-ef9e-4106-ad88-94af83f978c3"
      },
      "source": [
        "## we observed here that StateHoliday contains categorical and numerical values \n",
        "## so here we will converts that 0 into categorical value\n",
        "\n",
        "datanew.loc[datanew.StateHoliday == 0,'StateHoliday'] = datanew.loc[datanew.StateHoliday == 0,\n",
        "                                                           'StateHoliday'].astype(str)\n",
        "\n",
        "datanew.shape"
      ],
      "execution_count": 32,
      "outputs": [
        {
          "output_type": "execute_result",
          "data": {
            "text/plain": [
              "(844338, 14)"
            ]
          },
          "metadata": {},
          "execution_count": 32
        }
      ]
    },
    {
      "cell_type": "markdown",
      "metadata": {
        "id": "MJWjPty5bE03"
      },
      "source": [
        "## Creating  new Features "
      ]
    },
    {
      "cell_type": "code",
      "metadata": {
        "colab": {
          "base_uri": "https://localhost:8080/"
        },
        "id": "8wkWPV1rAScG",
        "outputId": "b44ffc4e-8e37-4c4f-bd57-1ed3f3abc8a8"
      },
      "source": [
        "datanew.info()"
      ],
      "execution_count": 33,
      "outputs": [
        {
          "output_type": "stream",
          "name": "stdout",
          "text": [
            "<class 'pandas.core.frame.DataFrame'>\n",
            "Int64Index: 844338 entries, 0 to 1017190\n",
            "Data columns (total 14 columns):\n",
            " #   Column               Non-Null Count   Dtype  \n",
            "---  ------               --------------   -----  \n",
            " 0   Store                844338 non-null  int64  \n",
            " 1   DayOfWeek            844338 non-null  int64  \n",
            " 2   Sales                844338 non-null  int64  \n",
            " 3   Customers            844338 non-null  int64  \n",
            " 4   Promo                844338 non-null  int64  \n",
            " 5   StateHoliday         844338 non-null  object \n",
            " 6   SchoolHoliday        844338 non-null  int64  \n",
            " 7   Year                 844338 non-null  int64  \n",
            " 8   Month                844338 non-null  int64  \n",
            " 9   Day                  844338 non-null  int64  \n",
            " 10  StoreType            844338 non-null  object \n",
            " 11  Assortment           844338 non-null  object \n",
            " 12  CompetitionDistance  844338 non-null  float64\n",
            " 13  Promo2               844338 non-null  int64  \n",
            "dtypes: float64(1), int64(10), object(3)\n",
            "memory usage: 96.6+ MB\n"
          ]
        }
      ]
    },
    {
      "cell_type": "code",
      "metadata": {
        "id": "g-UJiWUaAckY"
      },
      "source": [
        "## here we writing code to get the data of average sales per month\n",
        "\n",
        "sales_mon = datanew[['Year','Month','Store','Sales']].groupby(['Year','Month','Store']).mean()\n",
        "sales_mon = sales_mon.rename(columns={'Sales':'AvgSales_month'})\n",
        "sales_mon.reset_index(inplace=True)"
      ],
      "execution_count": 34,
      "outputs": []
    },
    {
      "cell_type": "code",
      "metadata": {
        "id": "SOV3BxtUAv8v"
      },
      "source": [
        "# creating keys so that we can merge two dataframe\n",
        "datanew['sales_key']=datanew['Year'].map(str) + datanew['Month'].map(str) + datanew['Store'].map(str)\n",
        "sales_mon['sales_key']=sales_mon['Year'].map(str) + sales_mon['Month'].map(str) + sales_mon['Store'].map(str)"
      ],
      "execution_count": 35,
      "outputs": []
    },
    {
      "cell_type": "code",
      "metadata": {
        "id": "2csBe3KzAyg9"
      },
      "source": [
        "## drop extra columns\n",
        "sales_mon_new = sales_mon.drop(['Year','Month','Store'], axis=1)\n",
        "\n",
        "## merge\n",
        "data_new = pd.merge(datanew, sales_mon_new, how = 'left')"
      ],
      "execution_count": 36,
      "outputs": []
    },
    {
      "cell_type": "code",
      "metadata": {
        "colab": {
          "base_uri": "https://localhost:8080/",
          "height": 226
        },
        "id": "rArBkibeA-nW",
        "outputId": "2082b09e-8205-4ac6-9704-3b712d432be1"
      },
      "source": [
        "data_new.head()"
      ],
      "execution_count": 37,
      "outputs": [
        {
          "output_type": "execute_result",
          "data": {
            "text/html": [
              "<div>\n",
              "<style scoped>\n",
              "    .dataframe tbody tr th:only-of-type {\n",
              "        vertical-align: middle;\n",
              "    }\n",
              "\n",
              "    .dataframe tbody tr th {\n",
              "        vertical-align: top;\n",
              "    }\n",
              "\n",
              "    .dataframe thead th {\n",
              "        text-align: right;\n",
              "    }\n",
              "</style>\n",
              "<table border=\"1\" class=\"dataframe\">\n",
              "  <thead>\n",
              "    <tr style=\"text-align: right;\">\n",
              "      <th></th>\n",
              "      <th>Store</th>\n",
              "      <th>DayOfWeek</th>\n",
              "      <th>Sales</th>\n",
              "      <th>Customers</th>\n",
              "      <th>Promo</th>\n",
              "      <th>StateHoliday</th>\n",
              "      <th>SchoolHoliday</th>\n",
              "      <th>Year</th>\n",
              "      <th>Month</th>\n",
              "      <th>Day</th>\n",
              "      <th>StoreType</th>\n",
              "      <th>Assortment</th>\n",
              "      <th>CompetitionDistance</th>\n",
              "      <th>Promo2</th>\n",
              "      <th>sales_key</th>\n",
              "      <th>AvgSales_month</th>\n",
              "    </tr>\n",
              "  </thead>\n",
              "  <tbody>\n",
              "    <tr>\n",
              "      <th>0</th>\n",
              "      <td>1</td>\n",
              "      <td>5</td>\n",
              "      <td>5263</td>\n",
              "      <td>555</td>\n",
              "      <td>1</td>\n",
              "      <td>0</td>\n",
              "      <td>1</td>\n",
              "      <td>2015</td>\n",
              "      <td>7</td>\n",
              "      <td>31</td>\n",
              "      <td>c</td>\n",
              "      <td>a</td>\n",
              "      <td>1270.0</td>\n",
              "      <td>0</td>\n",
              "      <td>201571</td>\n",
              "      <td>4491.333333</td>\n",
              "    </tr>\n",
              "    <tr>\n",
              "      <th>1</th>\n",
              "      <td>2</td>\n",
              "      <td>5</td>\n",
              "      <td>6064</td>\n",
              "      <td>625</td>\n",
              "      <td>1</td>\n",
              "      <td>0</td>\n",
              "      <td>1</td>\n",
              "      <td>2015</td>\n",
              "      <td>7</td>\n",
              "      <td>31</td>\n",
              "      <td>a</td>\n",
              "      <td>a</td>\n",
              "      <td>570.0</td>\n",
              "      <td>1</td>\n",
              "      <td>201572</td>\n",
              "      <td>4954.259259</td>\n",
              "    </tr>\n",
              "    <tr>\n",
              "      <th>2</th>\n",
              "      <td>3</td>\n",
              "      <td>5</td>\n",
              "      <td>8314</td>\n",
              "      <td>821</td>\n",
              "      <td>1</td>\n",
              "      <td>0</td>\n",
              "      <td>1</td>\n",
              "      <td>2015</td>\n",
              "      <td>7</td>\n",
              "      <td>31</td>\n",
              "      <td>a</td>\n",
              "      <td>a</td>\n",
              "      <td>14130.0</td>\n",
              "      <td>1</td>\n",
              "      <td>201573</td>\n",
              "      <td>6797.592593</td>\n",
              "    </tr>\n",
              "    <tr>\n",
              "      <th>3</th>\n",
              "      <td>4</td>\n",
              "      <td>5</td>\n",
              "      <td>13995</td>\n",
              "      <td>1498</td>\n",
              "      <td>1</td>\n",
              "      <td>0</td>\n",
              "      <td>1</td>\n",
              "      <td>2015</td>\n",
              "      <td>7</td>\n",
              "      <td>31</td>\n",
              "      <td>c</td>\n",
              "      <td>c</td>\n",
              "      <td>620.0</td>\n",
              "      <td>0</td>\n",
              "      <td>201574</td>\n",
              "      <td>10256.851852</td>\n",
              "    </tr>\n",
              "    <tr>\n",
              "      <th>4</th>\n",
              "      <td>5</td>\n",
              "      <td>5</td>\n",
              "      <td>4822</td>\n",
              "      <td>559</td>\n",
              "      <td>1</td>\n",
              "      <td>0</td>\n",
              "      <td>1</td>\n",
              "      <td>2015</td>\n",
              "      <td>7</td>\n",
              "      <td>31</td>\n",
              "      <td>a</td>\n",
              "      <td>a</td>\n",
              "      <td>29910.0</td>\n",
              "      <td>0</td>\n",
              "      <td>201575</td>\n",
              "      <td>4599.629630</td>\n",
              "    </tr>\n",
              "  </tbody>\n",
              "</table>\n",
              "</div>"
            ],
            "text/plain": [
              "   Store  DayOfWeek  Sales  ...  Promo2  sales_key AvgSales_month\n",
              "0      1          5   5263  ...       0     201571    4491.333333\n",
              "1      2          5   6064  ...       1     201572    4954.259259\n",
              "2      3          5   8314  ...       1     201573    6797.592593\n",
              "3      4          5  13995  ...       0     201574   10256.851852\n",
              "4      5          5   4822  ...       0     201575    4599.629630\n",
              "\n",
              "[5 rows x 16 columns]"
            ]
          },
          "metadata": {},
          "execution_count": 37
        }
      ]
    },
    {
      "cell_type": "code",
      "metadata": {
        "id": "3EdZZMIwd4ri"
      },
      "source": [
        "## Here we writing a code to get monthly average customer at each store\n",
        "\n",
        "cust = data_new[['Year','Month','Store','Customers']].groupby(['Year','Month','Store']).mean()\n",
        "cust = cust.rename(columns={'Customers':'AvgCustomer_month'})\n",
        "cust.reset_index(inplace=True)\n",
        "\n",
        "# data1.columns"
      ],
      "execution_count": 38,
      "outputs": []
    },
    {
      "cell_type": "code",
      "metadata": {
        "id": "Q3Ciaa3MR3IO"
      },
      "source": [
        "# creating keys so that we can merge two dataframe\n",
        "data_new['cust_key']=data_new['Year'].map(str) + data_new['Month'].map(str) + data_new['Store'].map(str)\n",
        "cust['cust_key']=cust['Year'].map(str) + cust['Month'].map(str) + cust['Store'].map(str)\n"
      ],
      "execution_count": 39,
      "outputs": []
    },
    {
      "cell_type": "code",
      "metadata": {
        "id": "9xeUhncKgleV"
      },
      "source": [
        "## Dropping unnecessary features\n",
        "data_new = data_new.drop('Customers', axis=1)  # drop extra columns\n",
        "cust = cust.drop(['Year', 'Month', 'Store'], axis=1)\n",
        "\n",
        "# merge\n",
        "data_1 = pd.merge(data_new, cust,how='left')"
      ],
      "execution_count": 40,
      "outputs": []
    },
    {
      "cell_type": "code",
      "metadata": {
        "colab": {
          "base_uri": "https://localhost:8080/",
          "height": 226
        },
        "id": "WbExG5PGheQw",
        "outputId": "019d2f22-634b-421d-bbc5-3c70232bc1af"
      },
      "source": [
        "data_1.head()"
      ],
      "execution_count": 41,
      "outputs": [
        {
          "output_type": "execute_result",
          "data": {
            "text/html": [
              "<div>\n",
              "<style scoped>\n",
              "    .dataframe tbody tr th:only-of-type {\n",
              "        vertical-align: middle;\n",
              "    }\n",
              "\n",
              "    .dataframe tbody tr th {\n",
              "        vertical-align: top;\n",
              "    }\n",
              "\n",
              "    .dataframe thead th {\n",
              "        text-align: right;\n",
              "    }\n",
              "</style>\n",
              "<table border=\"1\" class=\"dataframe\">\n",
              "  <thead>\n",
              "    <tr style=\"text-align: right;\">\n",
              "      <th></th>\n",
              "      <th>Store</th>\n",
              "      <th>DayOfWeek</th>\n",
              "      <th>Sales</th>\n",
              "      <th>Promo</th>\n",
              "      <th>StateHoliday</th>\n",
              "      <th>SchoolHoliday</th>\n",
              "      <th>Year</th>\n",
              "      <th>Month</th>\n",
              "      <th>Day</th>\n",
              "      <th>StoreType</th>\n",
              "      <th>Assortment</th>\n",
              "      <th>CompetitionDistance</th>\n",
              "      <th>Promo2</th>\n",
              "      <th>sales_key</th>\n",
              "      <th>AvgSales_month</th>\n",
              "      <th>cust_key</th>\n",
              "      <th>AvgCustomer_month</th>\n",
              "    </tr>\n",
              "  </thead>\n",
              "  <tbody>\n",
              "    <tr>\n",
              "      <th>0</th>\n",
              "      <td>1</td>\n",
              "      <td>5</td>\n",
              "      <td>5263</td>\n",
              "      <td>1</td>\n",
              "      <td>0</td>\n",
              "      <td>1</td>\n",
              "      <td>2015</td>\n",
              "      <td>7</td>\n",
              "      <td>31</td>\n",
              "      <td>c</td>\n",
              "      <td>a</td>\n",
              "      <td>1270.0</td>\n",
              "      <td>0</td>\n",
              "      <td>201571</td>\n",
              "      <td>4491.333333</td>\n",
              "      <td>201571</td>\n",
              "      <td>519.407407</td>\n",
              "    </tr>\n",
              "    <tr>\n",
              "      <th>1</th>\n",
              "      <td>2</td>\n",
              "      <td>5</td>\n",
              "      <td>6064</td>\n",
              "      <td>1</td>\n",
              "      <td>0</td>\n",
              "      <td>1</td>\n",
              "      <td>2015</td>\n",
              "      <td>7</td>\n",
              "      <td>31</td>\n",
              "      <td>a</td>\n",
              "      <td>a</td>\n",
              "      <td>570.0</td>\n",
              "      <td>1</td>\n",
              "      <td>201572</td>\n",
              "      <td>4954.259259</td>\n",
              "      <td>201572</td>\n",
              "      <td>621.222222</td>\n",
              "    </tr>\n",
              "    <tr>\n",
              "      <th>2</th>\n",
              "      <td>3</td>\n",
              "      <td>5</td>\n",
              "      <td>8314</td>\n",
              "      <td>1</td>\n",
              "      <td>0</td>\n",
              "      <td>1</td>\n",
              "      <td>2015</td>\n",
              "      <td>7</td>\n",
              "      <td>31</td>\n",
              "      <td>a</td>\n",
              "      <td>a</td>\n",
              "      <td>14130.0</td>\n",
              "      <td>1</td>\n",
              "      <td>201573</td>\n",
              "      <td>6797.592593</td>\n",
              "      <td>201573</td>\n",
              "      <td>682.888889</td>\n",
              "    </tr>\n",
              "    <tr>\n",
              "      <th>3</th>\n",
              "      <td>4</td>\n",
              "      <td>5</td>\n",
              "      <td>13995</td>\n",
              "      <td>1</td>\n",
              "      <td>0</td>\n",
              "      <td>1</td>\n",
              "      <td>2015</td>\n",
              "      <td>7</td>\n",
              "      <td>31</td>\n",
              "      <td>c</td>\n",
              "      <td>c</td>\n",
              "      <td>620.0</td>\n",
              "      <td>0</td>\n",
              "      <td>201574</td>\n",
              "      <td>10256.851852</td>\n",
              "      <td>201574</td>\n",
              "      <td>1294.259259</td>\n",
              "    </tr>\n",
              "    <tr>\n",
              "      <th>4</th>\n",
              "      <td>5</td>\n",
              "      <td>5</td>\n",
              "      <td>4822</td>\n",
              "      <td>1</td>\n",
              "      <td>0</td>\n",
              "      <td>1</td>\n",
              "      <td>2015</td>\n",
              "      <td>7</td>\n",
              "      <td>31</td>\n",
              "      <td>a</td>\n",
              "      <td>a</td>\n",
              "      <td>29910.0</td>\n",
              "      <td>0</td>\n",
              "      <td>201575</td>\n",
              "      <td>4599.629630</td>\n",
              "      <td>201575</td>\n",
              "      <td>521.703704</td>\n",
              "    </tr>\n",
              "  </tbody>\n",
              "</table>\n",
              "</div>"
            ],
            "text/plain": [
              "   Store  DayOfWeek  Sales  ...  AvgSales_month cust_key  AvgCustomer_month\n",
              "0      1          5   5263  ...     4491.333333   201571         519.407407\n",
              "1      2          5   6064  ...     4954.259259   201572         621.222222\n",
              "2      3          5   8314  ...     6797.592593   201573         682.888889\n",
              "3      4          5  13995  ...    10256.851852   201574        1294.259259\n",
              "4      5          5   4822  ...     4599.629630   201575         521.703704\n",
              "\n",
              "[5 rows x 17 columns]"
            ]
          },
          "metadata": {},
          "execution_count": 41
        }
      ]
    },
    {
      "cell_type": "code",
      "metadata": {
        "colab": {
          "base_uri": "https://localhost:8080/",
          "height": 226
        },
        "id": "BHlNeKCuXRAv",
        "outputId": "f40ed17e-2197-43c4-b09c-dc6f62f08480"
      },
      "source": [
        "data_1.tail()"
      ],
      "execution_count": 42,
      "outputs": [
        {
          "output_type": "execute_result",
          "data": {
            "text/html": [
              "<div>\n",
              "<style scoped>\n",
              "    .dataframe tbody tr th:only-of-type {\n",
              "        vertical-align: middle;\n",
              "    }\n",
              "\n",
              "    .dataframe tbody tr th {\n",
              "        vertical-align: top;\n",
              "    }\n",
              "\n",
              "    .dataframe thead th {\n",
              "        text-align: right;\n",
              "    }\n",
              "</style>\n",
              "<table border=\"1\" class=\"dataframe\">\n",
              "  <thead>\n",
              "    <tr style=\"text-align: right;\">\n",
              "      <th></th>\n",
              "      <th>Store</th>\n",
              "      <th>DayOfWeek</th>\n",
              "      <th>Sales</th>\n",
              "      <th>Promo</th>\n",
              "      <th>StateHoliday</th>\n",
              "      <th>SchoolHoliday</th>\n",
              "      <th>Year</th>\n",
              "      <th>Month</th>\n",
              "      <th>Day</th>\n",
              "      <th>StoreType</th>\n",
              "      <th>Assortment</th>\n",
              "      <th>CompetitionDistance</th>\n",
              "      <th>Promo2</th>\n",
              "      <th>sales_key</th>\n",
              "      <th>AvgSales_month</th>\n",
              "      <th>cust_key</th>\n",
              "      <th>AvgCustomer_month</th>\n",
              "    </tr>\n",
              "  </thead>\n",
              "  <tbody>\n",
              "    <tr>\n",
              "      <th>904201</th>\n",
              "      <td>682</td>\n",
              "      <td>2</td>\n",
              "      <td>3375</td>\n",
              "      <td>0</td>\n",
              "      <td>a</td>\n",
              "      <td>1</td>\n",
              "      <td>2013</td>\n",
              "      <td>1</td>\n",
              "      <td>1</td>\n",
              "      <td>b</td>\n",
              "      <td>a</td>\n",
              "      <td>150.0</td>\n",
              "      <td>0</td>\n",
              "      <td>20131682</td>\n",
              "      <td>11115.806452</td>\n",
              "      <td>20131682</td>\n",
              "      <td>1740.709677</td>\n",
              "    </tr>\n",
              "    <tr>\n",
              "      <th>904202</th>\n",
              "      <td>733</td>\n",
              "      <td>2</td>\n",
              "      <td>10765</td>\n",
              "      <td>0</td>\n",
              "      <td>a</td>\n",
              "      <td>1</td>\n",
              "      <td>2013</td>\n",
              "      <td>1</td>\n",
              "      <td>1</td>\n",
              "      <td>b</td>\n",
              "      <td>b</td>\n",
              "      <td>860.0</td>\n",
              "      <td>0</td>\n",
              "      <td>20131733</td>\n",
              "      <td>12984.677419</td>\n",
              "      <td>20131733</td>\n",
              "      <td>3059.548387</td>\n",
              "    </tr>\n",
              "    <tr>\n",
              "      <th>904203</th>\n",
              "      <td>769</td>\n",
              "      <td>2</td>\n",
              "      <td>5035</td>\n",
              "      <td>0</td>\n",
              "      <td>a</td>\n",
              "      <td>1</td>\n",
              "      <td>2013</td>\n",
              "      <td>1</td>\n",
              "      <td>1</td>\n",
              "      <td>b</td>\n",
              "      <td>b</td>\n",
              "      <td>840.0</td>\n",
              "      <td>1</td>\n",
              "      <td>20131769</td>\n",
              "      <td>7854.806452</td>\n",
              "      <td>20131769</td>\n",
              "      <td>2330.000000</td>\n",
              "    </tr>\n",
              "    <tr>\n",
              "      <th>904204</th>\n",
              "      <td>948</td>\n",
              "      <td>2</td>\n",
              "      <td>4491</td>\n",
              "      <td>0</td>\n",
              "      <td>a</td>\n",
              "      <td>1</td>\n",
              "      <td>2013</td>\n",
              "      <td>1</td>\n",
              "      <td>1</td>\n",
              "      <td>b</td>\n",
              "      <td>b</td>\n",
              "      <td>1430.0</td>\n",
              "      <td>0</td>\n",
              "      <td>20131948</td>\n",
              "      <td>4475.741935</td>\n",
              "      <td>20131948</td>\n",
              "      <td>1301.322581</td>\n",
              "    </tr>\n",
              "    <tr>\n",
              "      <th>904205</th>\n",
              "      <td>1097</td>\n",
              "      <td>2</td>\n",
              "      <td>5961</td>\n",
              "      <td>0</td>\n",
              "      <td>a</td>\n",
              "      <td>1</td>\n",
              "      <td>2013</td>\n",
              "      <td>1</td>\n",
              "      <td>1</td>\n",
              "      <td>b</td>\n",
              "      <td>b</td>\n",
              "      <td>720.0</td>\n",
              "      <td>0</td>\n",
              "      <td>201311097</td>\n",
              "      <td>8178.774194</td>\n",
              "      <td>201311097</td>\n",
              "      <td>2149.387097</td>\n",
              "    </tr>\n",
              "  </tbody>\n",
              "</table>\n",
              "</div>"
            ],
            "text/plain": [
              "        Store  DayOfWeek  Sales  ...  AvgSales_month   cust_key  AvgCustomer_month\n",
              "904201    682          2   3375  ...    11115.806452   20131682        1740.709677\n",
              "904202    733          2  10765  ...    12984.677419   20131733        3059.548387\n",
              "904203    769          2   5035  ...     7854.806452   20131769        2330.000000\n",
              "904204    948          2   4491  ...     4475.741935   20131948        1301.322581\n",
              "904205   1097          2   5961  ...     8178.774194  201311097        2149.387097\n",
              "\n",
              "[5 rows x 17 columns]"
            ]
          },
          "metadata": {},
          "execution_count": 42
        }
      ]
    },
    {
      "cell_type": "code",
      "metadata": {
        "id": "LZap8DkcXVmh"
      },
      "source": [
        "## Encoding a feature\n",
        "## 0 - not a state holiday; 1- is on a state holiday\n",
        "data_1['StateHoliday'] = data_1.StateHoliday.map({'0':0, 'a':1 ,'b' : 1,'c': 1})\n",
        "\n",
        "# ## StoreType : 1 - Type a; 2 - Type b; 3 - Type c; 4 - Type d\n",
        "# data_1['StoreType'] = data_1.StoreType.map({'a' : 1, 'b' : 2, 'c' : 3, 'd':4})\n",
        "\n",
        "# ## Assortment : 1 - Type a; 2-2 - Type b; 3 - Type c\n",
        "# data_1['Assortment'] = data_1.StoreType.map({'a' : 1, 'b' : 2, 'c' : 3})"
      ],
      "execution_count": 43,
      "outputs": []
    },
    {
      "cell_type": "code",
      "metadata": {
        "id": "bcOfLBHYX6Zj"
      },
      "source": [
        "# dropping extra columns\n",
        "data_2 = data_1.drop(['cust_key','sales_key','Store','StateHoliday','StoreType','Assortment'], axis=1)"
      ],
      "execution_count": 44,
      "outputs": []
    },
    {
      "cell_type": "code",
      "metadata": {
        "id": "z6TdHXM7F40X",
        "colab": {
          "base_uri": "https://localhost:8080/"
        },
        "outputId": "7e001bb1-560f-4b7e-b8da-8a8f47dc9d2e"
      },
      "source": [
        "data_2.info()"
      ],
      "execution_count": 45,
      "outputs": [
        {
          "output_type": "stream",
          "name": "stdout",
          "text": [
            "<class 'pandas.core.frame.DataFrame'>\n",
            "Int64Index: 904206 entries, 0 to 904205\n",
            "Data columns (total 11 columns):\n",
            " #   Column               Non-Null Count   Dtype  \n",
            "---  ------               --------------   -----  \n",
            " 0   DayOfWeek            904206 non-null  int64  \n",
            " 1   Sales                904206 non-null  int64  \n",
            " 2   Promo                904206 non-null  int64  \n",
            " 3   SchoolHoliday        904206 non-null  int64  \n",
            " 4   Year                 904206 non-null  int64  \n",
            " 5   Month                904206 non-null  int64  \n",
            " 6   Day                  904206 non-null  int64  \n",
            " 7   CompetitionDistance  904206 non-null  float64\n",
            " 8   Promo2               904206 non-null  int64  \n",
            " 9   AvgSales_month       904206 non-null  float64\n",
            " 10  AvgCustomer_month    904206 non-null  float64\n",
            "dtypes: float64(3), int64(8)\n",
            "memory usage: 82.8 MB\n"
          ]
        }
      ]
    },
    {
      "cell_type": "markdown",
      "metadata": {
        "id": "90jCowMZjsTk"
      },
      "source": [
        "## Checking Relation between features\n",
        "### Upto now we have prepared dataframe , now we will try to draw some insights from the dataframe before building model"
      ]
    },
    {
      "cell_type": "code",
      "metadata": {
        "colab": {
          "base_uri": "https://localhost:8080/",
          "height": 414
        },
        "id": "eUmviXMmj6LU",
        "outputId": "c9d27e06-9df4-47cd-826b-adbd64590af4"
      },
      "source": [
        "## lets look at the correlation between all features\n",
        "corr = data_2.corr()\n",
        "corr"
      ],
      "execution_count": 46,
      "outputs": [
        {
          "output_type": "execute_result",
          "data": {
            "text/html": [
              "<div>\n",
              "<style scoped>\n",
              "    .dataframe tbody tr th:only-of-type {\n",
              "        vertical-align: middle;\n",
              "    }\n",
              "\n",
              "    .dataframe tbody tr th {\n",
              "        vertical-align: top;\n",
              "    }\n",
              "\n",
              "    .dataframe thead th {\n",
              "        text-align: right;\n",
              "    }\n",
              "</style>\n",
              "<table border=\"1\" class=\"dataframe\">\n",
              "  <thead>\n",
              "    <tr style=\"text-align: right;\">\n",
              "      <th></th>\n",
              "      <th>DayOfWeek</th>\n",
              "      <th>Sales</th>\n",
              "      <th>Promo</th>\n",
              "      <th>SchoolHoliday</th>\n",
              "      <th>Year</th>\n",
              "      <th>Month</th>\n",
              "      <th>Day</th>\n",
              "      <th>CompetitionDistance</th>\n",
              "      <th>Promo2</th>\n",
              "      <th>AvgSales_month</th>\n",
              "      <th>AvgCustomer_month</th>\n",
              "    </tr>\n",
              "  </thead>\n",
              "  <tbody>\n",
              "    <tr>\n",
              "      <th>DayOfWeek</th>\n",
              "      <td>1.000000</td>\n",
              "      <td>-0.178733</td>\n",
              "      <td>-0.286350</td>\n",
              "      <td>-0.135893</td>\n",
              "      <td>0.002316</td>\n",
              "      <td>-0.020707</td>\n",
              "      <td>0.006419</td>\n",
              "      <td>0.004975</td>\n",
              "      <td>-0.003150</td>\n",
              "      <td>0.001605</td>\n",
              "      <td>0.014897</td>\n",
              "    </tr>\n",
              "    <tr>\n",
              "      <th>Sales</th>\n",
              "      <td>-0.178733</td>\n",
              "      <td>1.000000</td>\n",
              "      <td>0.369741</td>\n",
              "      <td>0.036777</td>\n",
              "      <td>0.036711</td>\n",
              "      <td>0.087562</td>\n",
              "      <td>-0.055308</td>\n",
              "      <td>-0.032779</td>\n",
              "      <td>-0.125413</td>\n",
              "      <td>0.774885</td>\n",
              "      <td>0.644470</td>\n",
              "    </tr>\n",
              "    <tr>\n",
              "      <th>Promo</th>\n",
              "      <td>-0.286350</td>\n",
              "      <td>0.369741</td>\n",
              "      <td>1.000000</td>\n",
              "      <td>0.017027</td>\n",
              "      <td>0.026754</td>\n",
              "      <td>0.000732</td>\n",
              "      <td>-0.132124</td>\n",
              "      <td>-0.001701</td>\n",
              "      <td>-0.000708</td>\n",
              "      <td>0.001422</td>\n",
              "      <td>-0.005552</td>\n",
              "    </tr>\n",
              "    <tr>\n",
              "      <th>SchoolHoliday</th>\n",
              "      <td>-0.135893</td>\n",
              "      <td>0.036777</td>\n",
              "      <td>0.017027</td>\n",
              "      <td>1.000000</td>\n",
              "      <td>-0.031159</td>\n",
              "      <td>0.103183</td>\n",
              "      <td>0.029469</td>\n",
              "      <td>-0.004064</td>\n",
              "      <td>-0.007698</td>\n",
              "      <td>-0.002353</td>\n",
              "      <td>-0.001876</td>\n",
              "    </tr>\n",
              "    <tr>\n",
              "      <th>Year</th>\n",
              "      <td>0.002316</td>\n",
              "      <td>0.036711</td>\n",
              "      <td>0.026754</td>\n",
              "      <td>-0.031159</td>\n",
              "      <td>1.000000</td>\n",
              "      <td>-0.244638</td>\n",
              "      <td>0.006749</td>\n",
              "      <td>0.000879</td>\n",
              "      <td>-0.007467</td>\n",
              "      <td>0.045135</td>\n",
              "      <td>0.003051</td>\n",
              "    </tr>\n",
              "    <tr>\n",
              "      <th>Month</th>\n",
              "      <td>-0.020707</td>\n",
              "      <td>0.087562</td>\n",
              "      <td>0.000732</td>\n",
              "      <td>0.103183</td>\n",
              "      <td>-0.244638</td>\n",
              "      <td>1.000000</td>\n",
              "      <td>-0.011624</td>\n",
              "      <td>0.009890</td>\n",
              "      <td>-0.024807</td>\n",
              "      <td>0.072891</td>\n",
              "      <td>0.048639</td>\n",
              "    </tr>\n",
              "    <tr>\n",
              "      <th>Day</th>\n",
              "      <td>0.006419</td>\n",
              "      <td>-0.055308</td>\n",
              "      <td>-0.132124</td>\n",
              "      <td>0.029469</td>\n",
              "      <td>0.006749</td>\n",
              "      <td>-0.011624</td>\n",
              "      <td>1.000000</td>\n",
              "      <td>-0.000527</td>\n",
              "      <td>0.001740</td>\n",
              "      <td>-0.002638</td>\n",
              "      <td>-0.002813</td>\n",
              "    </tr>\n",
              "    <tr>\n",
              "      <th>CompetitionDistance</th>\n",
              "      <td>0.004975</td>\n",
              "      <td>-0.032779</td>\n",
              "      <td>-0.001701</td>\n",
              "      <td>-0.004064</td>\n",
              "      <td>0.000879</td>\n",
              "      <td>0.009890</td>\n",
              "      <td>-0.000527</td>\n",
              "      <td>1.000000</td>\n",
              "      <td>-0.140459</td>\n",
              "      <td>-0.046165</td>\n",
              "      <td>-0.156835</td>\n",
              "    </tr>\n",
              "    <tr>\n",
              "      <th>Promo2</th>\n",
              "      <td>-0.003150</td>\n",
              "      <td>-0.125413</td>\n",
              "      <td>-0.000708</td>\n",
              "      <td>-0.007698</td>\n",
              "      <td>-0.007467</td>\n",
              "      <td>-0.024807</td>\n",
              "      <td>0.001740</td>\n",
              "      <td>-0.140459</td>\n",
              "      <td>1.000000</td>\n",
              "      <td>-0.153337</td>\n",
              "      <td>-0.213213</td>\n",
              "    </tr>\n",
              "    <tr>\n",
              "      <th>AvgSales_month</th>\n",
              "      <td>0.001605</td>\n",
              "      <td>0.774885</td>\n",
              "      <td>0.001422</td>\n",
              "      <td>-0.002353</td>\n",
              "      <td>0.045135</td>\n",
              "      <td>0.072891</td>\n",
              "      <td>-0.002638</td>\n",
              "      <td>-0.046165</td>\n",
              "      <td>-0.153337</td>\n",
              "      <td>1.000000</td>\n",
              "      <td>0.797845</td>\n",
              "    </tr>\n",
              "    <tr>\n",
              "      <th>AvgCustomer_month</th>\n",
              "      <td>0.014897</td>\n",
              "      <td>0.644470</td>\n",
              "      <td>-0.005552</td>\n",
              "      <td>-0.001876</td>\n",
              "      <td>0.003051</td>\n",
              "      <td>0.048639</td>\n",
              "      <td>-0.002813</td>\n",
              "      <td>-0.156835</td>\n",
              "      <td>-0.213213</td>\n",
              "      <td>0.797845</td>\n",
              "      <td>1.000000</td>\n",
              "    </tr>\n",
              "  </tbody>\n",
              "</table>\n",
              "</div>"
            ],
            "text/plain": [
              "                     DayOfWeek     Sales  ...  AvgSales_month  AvgCustomer_month\n",
              "DayOfWeek             1.000000 -0.178733  ...        0.001605           0.014897\n",
              "Sales                -0.178733  1.000000  ...        0.774885           0.644470\n",
              "Promo                -0.286350  0.369741  ...        0.001422          -0.005552\n",
              "SchoolHoliday        -0.135893  0.036777  ...       -0.002353          -0.001876\n",
              "Year                  0.002316  0.036711  ...        0.045135           0.003051\n",
              "Month                -0.020707  0.087562  ...        0.072891           0.048639\n",
              "Day                   0.006419 -0.055308  ...       -0.002638          -0.002813\n",
              "CompetitionDistance   0.004975 -0.032779  ...       -0.046165          -0.156835\n",
              "Promo2               -0.003150 -0.125413  ...       -0.153337          -0.213213\n",
              "AvgSales_month        0.001605  0.774885  ...        1.000000           0.797845\n",
              "AvgCustomer_month     0.014897  0.644470  ...        0.797845           1.000000\n",
              "\n",
              "[11 rows x 11 columns]"
            ]
          },
          "metadata": {},
          "execution_count": 46
        }
      ]
    },
    {
      "cell_type": "code",
      "metadata": {
        "colab": {
          "base_uri": "https://localhost:8080/",
          "height": 606
        },
        "id": "vd86HGaYkalB",
        "outputId": "9f702177-2182-4da4-eea7-bc012f133f0d"
      },
      "source": [
        "## here we will see graphical representation of correlation between features\n",
        "\n",
        "# mask = np.zeros_like(corr, dtype = np.bool)\n",
        "mask=np.triu(np.ones_like(corr))\n",
        "\n",
        "f, ax = plt.subplots(figsize = (11, 9))\n",
        "sns.heatmap(corr, mask = mask,square = True, linewidths = .5, ax = ax, cmap = \"BuPu\")\n",
        "\n",
        "plt.title(\"Correlation Heatmap\", fontsize=20)"
      ],
      "execution_count": 47,
      "outputs": [
        {
          "output_type": "execute_result",
          "data": {
            "text/plain": [
              "Text(0.5, 1.0, 'Correlation Heatmap')"
            ]
          },
          "metadata": {},
          "execution_count": 47
        },
        {
          "output_type": "display_data",
          "data": {
            "image/png": "[encoded data removed]",
            "text/plain": [
              "<Figure size 792x648 with 2 Axes>"
            ]
          },
          "metadata": {
            "needs_background": "light"
          }
        }
      ]
    }
  ]
}